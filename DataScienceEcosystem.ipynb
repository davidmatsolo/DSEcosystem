{
 "cells": [
  {
   "cell_type": "markdown",
   "id": "8c23de26",
   "metadata": {},
   "source": [
    "# Data Science Tools and Ecosystem"
   ]
  },
  {
   "cell_type": "markdown",
   "id": "0305d57f",
   "metadata": {},
   "source": [
    "In this notebook, Data Science Tools and Ecosystem are Summarized"
   ]
  },
  {
   "cell_type": "markdown",
   "id": "f829cdf5",
   "metadata": {},
   "source": [
    "#### Popular Data Science Libraries\n",
    "\n",
    " NumPy  \n",
    " Pandas  \n",
    " Matplotlib  \n",
    " Seaborn  \n",
    " Scikit-learn  \n",
    " TensorFlow  \n",
    " PyTorch  \n",
    " SciPy    \n",
    " Keras  \n"
   ]
  },
  {
   "cell_type": "markdown",
   "id": "2d60ad30",
   "metadata": {},
   "source": [
    "#### Popular Data Science Languages\n",
    "\n",
    "Python  \n",
    "    R     \n",
    "SQL    \n",
    "Julia     \n",
    "Java  \n",
    "Scala  \n",
    "MATLAB   \n",
    "C++  \n",
    "SAS  \n"
   ]
  },
  {
   "cell_type": "markdown",
   "id": "6794cbc6",
   "metadata": {},
   "source": [
    "| Data Science Tools |\n",
    "|------------------|\n",
    "| Jupyter Notebook |\n",
    "| RStudio          |\n",
    "| Apache Spark     |\n",
    "| Tableau          |\n",
    "| Power BI         |\n"
   ]
  },
  {
   "cell_type": "markdown",
   "id": "07319503",
   "metadata": {},
   "source": [
    "### Below are a few examples of evaluating arithmetic expressions in Python"
   ]
  },
  {
   "cell_type": "markdown",
   "id": "a5f7cbce",
   "metadata": {},
   "source": [
    "This a simple arithmetic expression to mutiply then add integers"
   ]
  },
  {
   "cell_type": "code",
   "execution_count": 12,
   "id": "03589941",
   "metadata": {},
   "outputs": [
    {
     "data": {
      "text/plain": [
       "17"
      ]
     },
     "execution_count": 12,
     "metadata": {},
     "output_type": "execute_result"
    }
   ],
   "source": [
    "(3*4)+5"
   ]
  },
  {
   "cell_type": "markdown",
   "id": "b9bb8f8d",
   "metadata": {},
   "source": [
    "This will convert 200 minutes to hours by diving by 60"
   ]
  },
  {
   "cell_type": "code",
   "execution_count": 13,
   "id": "1590ec52",
   "metadata": {},
   "outputs": [
    {
     "data": {
      "text/plain": [
       "3.3333333333333335"
      ]
     },
     "execution_count": 13,
     "metadata": {},
     "output_type": "execute_result"
    }
   ],
   "source": [
    "mins = 200\n",
    "hours = mins/60\n",
    "\n",
    "hours"
   ]
  },
  {
   "cell_type": "markdown",
   "id": "6dfcd2ee",
   "metadata": {},
   "source": [
    "__Objectives__\n",
    "\n",
    "• Writing headings in a cell  \n",
    "• Provide data science languages  \n",
    "• Provide data science libraries  \n",
    "• Comment in a cell  \n",
    "• Execute expressions in a cell\n",
    "• Provide data science tools\n",
    "\n",
    "\n",
    "\n"
   ]
  },
  {
   "cell_type": "markdown",
   "id": "71a99bcf",
   "metadata": {},
   "source": [
    "# Author\n",
    "\n",
    "Sokolo David Matsolo"
   ]
  },
  {
   "cell_type": "code",
   "execution_count": null,
   "id": "e6589729",
   "metadata": {},
   "outputs": [],
   "source": []
  }
 ],
 "metadata": {
  "kernelspec": {
   "display_name": "Python 3",
   "language": "python",
   "name": "python3"
  },
  "language_info": {
   "codemirror_mode": {
    "name": "ipython",
    "version": 3
   },
   "file_extension": ".py",
   "mimetype": "text/x-python",
   "name": "python",
   "nbconvert_exporter": "python",
   "pygments_lexer": "ipython3",
   "version": "3.8.8"
  }
 },
 "nbformat": 4,
 "nbformat_minor": 5
}
